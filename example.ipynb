{
 "cells": [
  {
   "cell_type": "code",
   "execution_count": 1,
   "id": "6baeb1a6",
   "metadata": {},
   "outputs": [
    {
     "name": "stdout",
     "output_type": "stream",
     "text": [
      "Collecting lineapy\n",
      "  Downloading lineapy-0.2.3-py3-none-any.whl (235 kB)\n",
      "\u001b[2K     \u001b[90m━━━━━━━━━━━━━━━━━━━━━━━━━━━━━━━━━━━━━━━\u001b[0m \u001b[32m235.8/235.8 kB\u001b[0m \u001b[31m6.0 MB/s\u001b[0m eta \u001b[36m0:00:00\u001b[0m00:01\u001b[0m\n",
      "\u001b[?25hCollecting pandas\n",
      "  Downloading pandas-2.0.0-cp310-cp310-manylinux_2_17_x86_64.manylinux2014_x86_64.whl (12.3 MB)\n",
      "\u001b[2K     \u001b[90m━━━━━━━━━━━━━━━━━━━━━━━━━━━━━━━━━━━━━━━━\u001b[0m \u001b[32m12.3/12.3 MB\u001b[0m \u001b[31m31.6 MB/s\u001b[0m eta \u001b[36m0:00:00\u001b[0m00:01\u001b[0m00:01\u001b[0m\n",
      "\u001b[?25hCollecting black\n",
      "  Downloading black-23.3.0-cp310-cp310-manylinux_2_17_x86_64.manylinux2014_x86_64.whl (1.7 MB)\n",
      "\u001b[2K     \u001b[90m━━━━━━━━━━━━━━━━━━━━━━━━━━━━━━━━━━━━━━━━\u001b[0m \u001b[32m1.7/1.7 MB\u001b[0m \u001b[31m21.6 MB/s\u001b[0m eta \u001b[36m0:00:00\u001b[0m00:01\u001b[0m00:01\u001b[0m\n",
      "\u001b[?25hCollecting isort\n",
      "  Downloading isort-5.12.0-py3-none-any.whl (91 kB)\n",
      "\u001b[2K     \u001b[90m━━━━━━━━━━━━━━━━━━━━━━━━━━━━━━━━━━━━━━━━\u001b[0m \u001b[32m91.2/91.2 kB\u001b[0m \u001b[31m10.5 MB/s\u001b[0m eta \u001b[36m0:00:00\u001b[0m\n",
      "\u001b[?25hCollecting click>=8.0.0\n",
      "  Downloading click-8.1.3-py3-none-any.whl (96 kB)\n",
      "\u001b[2K     \u001b[90m━━━━━━━━━━━━━━━━━━━━━━━━━━━━━━━━━━━━━━━━\u001b[0m \u001b[32m96.6/96.6 kB\u001b[0m \u001b[31m11.6 MB/s\u001b[0m eta \u001b[36m0:00:00\u001b[0m\n",
      "\u001b[?25hRequirement already satisfied: jinja2 in /opt/conda/lib/python3.10/site-packages (from lineapy) (3.1.2)\n",
      "Requirement already satisfied: typing-extensions>=4.0.0 in /opt/conda/lib/python3.10/site-packages (from lineapy) (4.4.0)\n",
      "Collecting pydantic\n",
      "  Downloading pydantic-1.10.7-cp310-cp310-manylinux_2_17_x86_64.manylinux2014_x86_64.whl (3.1 MB)\n",
      "\u001b[2K     \u001b[90m━━━━━━━━━━━━━━━━━━━━━━━━━━━━━━━━━━━━━━━━\u001b[0m \u001b[32m3.1/3.1 MB\u001b[0m \u001b[31m30.9 MB/s\u001b[0m eta \u001b[36m0:00:00\u001b[0ma \u001b[36m0:00:01\u001b[0m\n",
      "\u001b[?25hCollecting networkx\n",
      "  Downloading networkx-3.1-py3-none-any.whl (2.1 MB)\n",
      "\u001b[2K     \u001b[90m━━━━━━━━━━━━━━━━━━━━━━━━━━━━━━━━━━━━━━━━\u001b[0m \u001b[32m2.1/2.1 MB\u001b[0m \u001b[31m21.0 MB/s\u001b[0m eta \u001b[36m0:00:00\u001b[0ma \u001b[36m0:00:01\u001b[0m\n",
      "\u001b[?25hRequirement already satisfied: nbformat in /opt/conda/lib/python3.10/site-packages (from lineapy) (5.7.0)\n",
      "Requirement already satisfied: SQLAlchemy<2.0.0,>=1.4 in /opt/conda/lib/python3.10/site-packages (from lineapy) (1.4.43)\n",
      "Collecting rich\n",
      "  Downloading rich-13.3.4-py3-none-any.whl (238 kB)\n",
      "\u001b[2K     \u001b[90m━━━━━━━━━━━━━━━━━━━━━━━━━━━━━━━━━━━━━━\u001b[0m \u001b[32m238.7/238.7 kB\u001b[0m \u001b[31m18.8 MB/s\u001b[0m eta \u001b[36m0:00:00\u001b[0m\n",
      "\u001b[?25hRequirement already satisfied: requests in /opt/conda/lib/python3.10/site-packages (from lineapy) (2.28.1)\n",
      "Requirement already satisfied: asttokens in /opt/conda/lib/python3.10/site-packages (from lineapy) (2.1.0)\n",
      "Collecting nbconvert<7.0.0\n",
      "  Downloading nbconvert-6.5.4-py3-none-any.whl (563 kB)\n",
      "\u001b[2K     \u001b[90m━━━━━━━━━━━━━━━━━━━━━━━━━━━━━━━━━━━━━━\u001b[0m \u001b[32m563.8/563.8 kB\u001b[0m \u001b[31m38.3 MB/s\u001b[0m eta \u001b[36m0:00:00\u001b[0m\n",
      "\u001b[?25hCollecting pyyaml\n",
      "  Downloading PyYAML-6.0-cp310-cp310-manylinux_2_5_x86_64.manylinux1_x86_64.manylinux_2_12_x86_64.manylinux2010_x86_64.whl (682 kB)\n",
      "\u001b[2K     \u001b[90m━━━━━━━━━━━━━━━━━━━━━━━━━━━━━━━━━━━━━━\u001b[0m \u001b[32m682.2/682.2 kB\u001b[0m \u001b[31m28.5 MB/s\u001b[0m eta \u001b[36m0:00:00\u001b[0m\n",
      "\u001b[?25hCollecting cloudpickle\n",
      "  Downloading cloudpickle-2.2.1-py3-none-any.whl (25 kB)\n",
      "Requirement already satisfied: IPython>=7.0.0 in /opt/conda/lib/python3.10/site-packages (from lineapy) (8.6.0)\n",
      "Collecting fsspec\n",
      "  Downloading fsspec-2023.4.0-py3-none-any.whl (153 kB)\n",
      "\u001b[2K     \u001b[90m━━━━━━━━━━━━━━━━━━━━━━━━━━━━━━━━━━━━━━\u001b[0m \u001b[32m154.0/154.0 kB\u001b[0m \u001b[31m17.1 MB/s\u001b[0m eta \u001b[36m0:00:00\u001b[0m\n",
      "\u001b[?25hCollecting alembic==1.8.0\n",
      "  Downloading alembic-1.8.0-py3-none-any.whl (209 kB)\n",
      "\u001b[2K     \u001b[90m━━━━━━━━━━━━━━━━━━━━━━━━━━━━━━━━━━━━━━\u001b[0m \u001b[32m209.3/209.3 kB\u001b[0m \u001b[31m19.7 MB/s\u001b[0m eta \u001b[36m0:00:00\u001b[0m\n",
      "\u001b[?25hRequirement already satisfied: Mako in /opt/conda/lib/python3.10/site-packages (from alembic==1.8.0->lineapy) (1.2.3)\n",
      "Requirement already satisfied: pexpect>4.3 in /opt/conda/lib/python3.10/site-packages (from IPython>=7.0.0->lineapy) (4.8.0)\n",
      "Requirement already satisfied: pickleshare in /opt/conda/lib/python3.10/site-packages (from IPython>=7.0.0->lineapy) (0.7.5)\n",
      "Requirement already satisfied: prompt-toolkit<3.1.0,>3.0.1 in /opt/conda/lib/python3.10/site-packages (from IPython>=7.0.0->lineapy) (3.0.32)\n",
      "Requirement already satisfied: pygments>=2.4.0 in /opt/conda/lib/python3.10/site-packages (from IPython>=7.0.0->lineapy) (2.13.0)\n",
      "Requirement already satisfied: jedi>=0.16 in /opt/conda/lib/python3.10/site-packages (from IPython>=7.0.0->lineapy) (0.18.1)\n",
      "Requirement already satisfied: stack-data in /opt/conda/lib/python3.10/site-packages (from IPython>=7.0.0->lineapy) (0.6.0)\n",
      "Requirement already satisfied: backcall in /opt/conda/lib/python3.10/site-packages (from IPython>=7.0.0->lineapy) (0.2.0)\n",
      "Requirement already satisfied: matplotlib-inline in /opt/conda/lib/python3.10/site-packages (from IPython>=7.0.0->lineapy) (0.1.6)\n",
      "Requirement already satisfied: traitlets>=5 in /opt/conda/lib/python3.10/site-packages (from IPython>=7.0.0->lineapy) (5.5.0)\n",
      "Requirement already satisfied: decorator in /opt/conda/lib/python3.10/site-packages (from IPython>=7.0.0->lineapy) (5.1.1)\n",
      "Requirement already satisfied: jupyterlab-pygments in /opt/conda/lib/python3.10/site-packages (from nbconvert<7.0.0->lineapy) (0.2.2)\n",
      "Requirement already satisfied: beautifulsoup4 in /opt/conda/lib/python3.10/site-packages (from nbconvert<7.0.0->lineapy) (4.11.1)\n",
      "Requirement already satisfied: MarkupSafe>=2.0 in /opt/conda/lib/python3.10/site-packages (from nbconvert<7.0.0->lineapy) (2.1.1)\n",
      "Requirement already satisfied: defusedxml in /opt/conda/lib/python3.10/site-packages (from nbconvert<7.0.0->lineapy) (0.7.1)\n",
      "Requirement already satisfied: nbclient>=0.5.0 in /opt/conda/lib/python3.10/site-packages (from nbconvert<7.0.0->lineapy) (0.7.0)\n",
      "Requirement already satisfied: bleach in /opt/conda/lib/python3.10/site-packages (from nbconvert<7.0.0->lineapy) (5.0.1)\n",
      "Requirement already satisfied: pandocfilters>=1.4.1 in /opt/conda/lib/python3.10/site-packages (from nbconvert<7.0.0->lineapy) (1.5.0)\n",
      "Collecting mistune<2,>=0.8.1\n",
      "  Downloading mistune-0.8.4-py2.py3-none-any.whl (16 kB)\n",
      "Requirement already satisfied: jupyter-core>=4.7 in /opt/conda/lib/python3.10/site-packages (from nbconvert<7.0.0->lineapy) (4.11.2)\n",
      "Requirement already satisfied: entrypoints>=0.2.2 in /opt/conda/lib/python3.10/site-packages (from nbconvert<7.0.0->lineapy) (0.4)\n",
      "Requirement already satisfied: packaging in /opt/conda/lib/python3.10/site-packages (from nbconvert<7.0.0->lineapy) (21.3)\n",
      "Collecting lxml\n",
      "  Downloading lxml-4.9.2-cp310-cp310-manylinux_2_17_x86_64.manylinux2014_x86_64.manylinux_2_24_x86_64.whl (7.1 MB)\n",
      "\u001b[2K     \u001b[90m━━━━━━━━━━━━━━━━━━━━━━━━━━━━━━━━━━━━━━━━\u001b[0m \u001b[32m7.1/7.1 MB\u001b[0m \u001b[31m54.7 MB/s\u001b[0m eta \u001b[36m0:00:00\u001b[0m00:01\u001b[0m00:01\u001b[0m\n",
      "\u001b[?25hRequirement already satisfied: tinycss2 in /opt/conda/lib/python3.10/site-packages (from nbconvert<7.0.0->lineapy) (1.2.1)\n",
      "Requirement already satisfied: fastjsonschema in /opt/conda/lib/python3.10/site-packages (from nbformat->lineapy) (2.16.2)\n",
      "Requirement already satisfied: jsonschema>=2.6 in /opt/conda/lib/python3.10/site-packages (from nbformat->lineapy) (4.17.0)\n",
      "Requirement already satisfied: greenlet!=0.4.17 in /opt/conda/lib/python3.10/site-packages (from SQLAlchemy<2.0.0,>=1.4->lineapy) (2.0.1)\n",
      "Requirement already satisfied: six in /opt/conda/lib/python3.10/site-packages (from asttokens->lineapy) (1.16.0)\n",
      "Collecting platformdirs>=2\n",
      "  Downloading platformdirs-3.2.0-py3-none-any.whl (14 kB)\n",
      "Collecting pathspec>=0.9.0\n",
      "  Downloading pathspec-0.11.1-py3-none-any.whl (29 kB)\n",
      "Requirement already satisfied: tomli>=1.1.0 in /opt/conda/lib/python3.10/site-packages (from black->lineapy) (2.0.1)\n",
      "Collecting packaging\n",
      "  Downloading packaging-23.1-py3-none-any.whl (48 kB)\n",
      "\u001b[2K     \u001b[90m━━━━━━━━━━━━━━━━━━━━━━━━━━━━━━━━━━━━━━━━\u001b[0m \u001b[32m48.9/48.9 kB\u001b[0m \u001b[31m5.1 MB/s\u001b[0m eta \u001b[36m0:00:00\u001b[0m\n",
      "\u001b[?25hCollecting mypy-extensions>=0.4.3\n",
      "  Downloading mypy_extensions-1.0.0-py3-none-any.whl (4.7 kB)\n",
      "Collecting tzdata>=2022.1\n",
      "  Downloading tzdata-2023.3-py2.py3-none-any.whl (341 kB)\n",
      "\u001b[2K     \u001b[90m━━━━━━━━━━━━━━━━━━━━━━━━━━━━━━━━━━━━━━\u001b[0m \u001b[32m341.8/341.8 kB\u001b[0m \u001b[31m28.6 MB/s\u001b[0m eta \u001b[36m0:00:00\u001b[0m\n",
      "\u001b[?25hRequirement already satisfied: python-dateutil>=2.8.2 in /opt/conda/lib/python3.10/site-packages (from pandas->lineapy) (2.8.2)\n",
      "Requirement already satisfied: pytz>=2020.1 in /opt/conda/lib/python3.10/site-packages (from pandas->lineapy) (2022.6)\n",
      "Collecting numpy>=1.21.0\n",
      "  Downloading numpy-1.24.2-cp310-cp310-manylinux_2_17_x86_64.manylinux2014_x86_64.whl (17.3 MB)\n",
      "\u001b[2K     \u001b[90m━━━━━━━━━━━━━━━━━━━━━━━━━━━━━━━━━━━━━━━━\u001b[0m \u001b[32m17.3/17.3 MB\u001b[0m \u001b[31m27.9 MB/s\u001b[0m eta \u001b[36m0:00:00\u001b[0m00:01\u001b[0m00:01\u001b[0m\n",
      "\u001b[?25hRequirement already satisfied: urllib3<1.27,>=1.21.1 in /opt/conda/lib/python3.10/site-packages (from requests->lineapy) (1.26.11)\n",
      "Requirement already satisfied: charset-normalizer<3,>=2 in /opt/conda/lib/python3.10/site-packages (from requests->lineapy) (2.1.1)\n",
      "Requirement already satisfied: certifi>=2017.4.17 in /opt/conda/lib/python3.10/site-packages (from requests->lineapy) (2022.9.24)\n",
      "Requirement already satisfied: idna<4,>=2.5 in /opt/conda/lib/python3.10/site-packages (from requests->lineapy) (3.4)\n",
      "Collecting markdown-it-py<3.0.0,>=2.2.0\n",
      "  Downloading markdown_it_py-2.2.0-py3-none-any.whl (84 kB)\n",
      "\u001b[2K     \u001b[90m━━━━━━━━━━━━━━━━━━━━━━━━━━━━━━━━━━━━━━━━\u001b[0m \u001b[32m84.5/84.5 kB\u001b[0m \u001b[31m10.0 MB/s\u001b[0m eta \u001b[36m0:00:00\u001b[0m\n",
      "\u001b[?25hRequirement already satisfied: parso<0.9.0,>=0.8.0 in /opt/conda/lib/python3.10/site-packages (from jedi>=0.16->IPython>=7.0.0->lineapy) (0.8.3)\n",
      "Requirement already satisfied: pyrsistent!=0.17.0,!=0.17.1,!=0.17.2,>=0.14.0 in /opt/conda/lib/python3.10/site-packages (from jsonschema>=2.6->nbformat->lineapy) (0.19.2)\n",
      "Requirement already satisfied: attrs>=17.4.0 in /opt/conda/lib/python3.10/site-packages (from jsonschema>=2.6->nbformat->lineapy) (22.1.0)\n",
      "Collecting mdurl~=0.1\n",
      "  Downloading mdurl-0.1.2-py3-none-any.whl (10.0 kB)\n",
      "Requirement already satisfied: jupyter-client>=6.1.5 in /opt/conda/lib/python3.10/site-packages (from nbclient>=0.5.0->nbconvert<7.0.0->lineapy) (7.4.4)\n",
      "Requirement already satisfied: nest-asyncio in /opt/conda/lib/python3.10/site-packages (from nbclient>=0.5.0->nbconvert<7.0.0->lineapy) (1.5.6)\n",
      "Requirement already satisfied: ptyprocess>=0.5 in /opt/conda/lib/python3.10/site-packages (from pexpect>4.3->IPython>=7.0.0->lineapy) (0.7.0)\n",
      "Requirement already satisfied: wcwidth in /opt/conda/lib/python3.10/site-packages (from prompt-toolkit<3.1.0,>3.0.1->IPython>=7.0.0->lineapy) (0.2.5)\n",
      "Requirement already satisfied: soupsieve>1.2 in /opt/conda/lib/python3.10/site-packages (from beautifulsoup4->nbconvert<7.0.0->lineapy) (2.3.2.post1)\n",
      "Requirement already satisfied: webencodings in /opt/conda/lib/python3.10/site-packages (from bleach->nbconvert<7.0.0->lineapy) (0.5.1)\n",
      "Requirement already satisfied: pure-eval in /opt/conda/lib/python3.10/site-packages (from stack-data->IPython>=7.0.0->lineapy) (0.2.2)\n",
      "Requirement already satisfied: executing>=1.2.0 in /opt/conda/lib/python3.10/site-packages (from stack-data->IPython>=7.0.0->lineapy) (1.2.0)\n",
      "Requirement already satisfied: pyzmq>=23.0 in /opt/conda/lib/python3.10/site-packages (from jupyter-client>=6.1.5->nbclient>=0.5.0->nbconvert<7.0.0->lineapy) (24.0.1)\n",
      "Requirement already satisfied: tornado>=6.2 in /opt/conda/lib/python3.10/site-packages (from jupyter-client>=6.1.5->nbclient>=0.5.0->nbconvert<7.0.0->lineapy) (6.2)\n",
      "Installing collected packages: mistune, tzdata, pyyaml, pydantic, platformdirs, pathspec, packaging, numpy, networkx, mypy-extensions, mdurl, lxml, isort, fsspec, cloudpickle, click, pandas, markdown-it-py, black, alembic, rich, nbconvert, lineapy\n",
      "  Attempting uninstall: mistune\n",
      "    Found existing installation: mistune 2.0.4\n",
      "    Uninstalling mistune-2.0.4:\n",
      "      Successfully uninstalled mistune-2.0.4\n",
      "  Attempting uninstall: packaging\n",
      "    Found existing installation: packaging 21.3\n",
      "    Uninstalling packaging-21.3:\n",
      "      Successfully uninstalled packaging-21.3\n",
      "  Attempting uninstall: alembic\n",
      "    Found existing installation: alembic 1.8.1\n",
      "    Uninstalling alembic-1.8.1:\n",
      "      Successfully uninstalled alembic-1.8.1\n",
      "  Attempting uninstall: nbconvert\n",
      "    Found existing installation: nbconvert 7.2.3\n",
      "    Uninstalling nbconvert-7.2.3:\n",
      "      Successfully uninstalled nbconvert-7.2.3\n",
      "Successfully installed alembic-1.8.0 black-23.3.0 click-8.1.3 cloudpickle-2.2.1 fsspec-2023.4.0 isort-5.12.0 lineapy-0.2.3 lxml-4.9.2 markdown-it-py-2.2.0 mdurl-0.1.2 mistune-0.8.4 mypy-extensions-1.0.0 nbconvert-6.5.4 networkx-3.1 numpy-1.24.2 packaging-23.1 pandas-2.0.0 pathspec-0.11.1 platformdirs-3.2.0 pydantic-1.10.7 pyyaml-6.0 rich-13.3.4 tzdata-2023.3\n"
     ]
    }
   ],
   "source": [
    "!pip install lineapy"
   ]
  },
  {
   "cell_type": "code",
   "execution_count": 2,
   "id": "2d469330",
   "metadata": {},
   "outputs": [
    {
     "name": "stderr",
     "output_type": "stream",
     "text": [
      "Folder /home/jovyan/.lineapy does not exist. Creating a new one.\n",
      "Folder /home/jovyan/.lineapy/linea_pickles does not exist. Creating a new one.\n",
      "Folder /home/jovyan/.lineapy/custom-annotations does not exist. Creating a new one.\n"
     ]
    }
   ],
   "source": [
    "%load_ext lineapy"
   ]
  },
  {
   "cell_type": "code",
   "execution_count": 3,
   "id": "11699878",
   "metadata": {},
   "outputs": [],
   "source": [
    "import lineapy"
   ]
  },
  {
   "cell_type": "code",
   "execution_count": 4,
   "id": "39055417",
   "metadata": {},
   "outputs": [],
   "source": [
    "number = '1'"
   ]
  },
  {
   "cell_type": "code",
   "execution_count": 5,
   "id": "888c7920",
   "metadata": {},
   "outputs": [],
   "source": [
    "a=1"
   ]
  },
  {
   "cell_type": "code",
   "execution_count": 6,
   "id": "79cc44d2",
   "metadata": {},
   "outputs": [],
   "source": [
    "b=2"
   ]
  },
  {
   "cell_type": "code",
   "execution_count": 7,
   "id": "69709f94",
   "metadata": {},
   "outputs": [],
   "source": [
    "c=a+b"
   ]
  },
  {
   "cell_type": "code",
   "execution_count": 8,
   "id": "919144ff",
   "metadata": {},
   "outputs": [
    {
     "name": "stdout",
     "output_type": "stream",
     "text": [
      "3\n"
     ]
    }
   ],
   "source": [
    "print(c)"
   ]
  },
  {
   "cell_type": "code",
   "execution_count": 9,
   "id": "01c7185f",
   "metadata": {},
   "outputs": [],
   "source": [
    "artifact = lineapy.save(c, 'c')"
   ]
  },
  {
   "cell_type": "code",
   "execution_count": 10,
   "id": "c8ade69b",
   "metadata": {},
   "outputs": [
    {
     "name": "stdout",
     "output_type": "stream",
     "text": [
      "a = 1\n",
      "b = 2\n",
      "c = a + b\n",
      "\n"
     ]
    }
   ],
   "source": [
    "print(artifact.get_code())"
   ]
  },
  {
   "cell_type": "code",
   "execution_count": 11,
   "id": "f2bc5f63",
   "metadata": {},
   "outputs": [],
   "source": [
    "import numpy as np"
   ]
  },
  {
   "cell_type": "code",
   "execution_count": 12,
   "id": "2ebd3d88",
   "metadata": {},
   "outputs": [],
   "source": [
    "my_parameter=3"
   ]
  },
  {
   "cell_type": "code",
   "execution_count": 13,
   "id": "e94e072c",
   "metadata": {},
   "outputs": [],
   "source": [
    "d=numpy.dot(np.array([c]), np.array([my_parameter]))"
   ]
  },
  {
   "cell_type": "code",
   "execution_count": 14,
   "id": "8e82a5da",
   "metadata": {},
   "outputs": [
    {
     "name": "stdout",
     "output_type": "stream",
     "text": [
      "9\n"
     ]
    }
   ],
   "source": [
    "print(d)"
   ]
  },
  {
   "cell_type": "code",
   "execution_count": 15,
   "id": "995a055b",
   "metadata": {},
   "outputs": [],
   "source": [
    "another_artifact = lineapy.save(d, 'd')"
   ]
  },
  {
   "cell_type": "code",
   "execution_count": 16,
   "id": "282f4f26-3d74-45f8-ae6a-569f46ad7d1f",
   "metadata": {},
   "outputs": [
    {
     "name": "stdout",
     "output_type": "stream",
     "text": [
      "import numpy as np\n",
      "\n",
      "a = 1\n",
      "b = 2\n",
      "c = a + b\n",
      "my_parameter = 3\n",
      "d = numpy.dot(np.array([c]), np.array([my_parameter]))\n",
      "\n"
     ]
    }
   ],
   "source": [
    "print(another_artifact.get_code())"
   ]
  },
  {
   "cell_type": "code",
   "execution_count": 48,
   "id": "f926d28d",
   "metadata": {},
   "outputs": [
    {
     "name": "stderr",
     "output_type": "stream",
     "text": [
      "Generated module file: my_pipeline_module.py                                    \n",
      "Generated requirements file: my_pipeline_requirements.txt                       \n",
      "Generated DAG file: params.yaml                                                 \n",
      "Generated DAG file: task_c.py                                                   \n",
      "Generated DAG file: task_d.py                                                   \n",
      "Generated DAG file: dvc.yaml                                                    \n",
      "Generated Docker file: my_pipeline_Dockerfile                                   \n"
     ]
    }
   ],
   "source": [
    "directory = lineapy.to_pipeline(\n",
    "    [\"c\", \"d\"],\n",
    "    framework=\"DVC\",\n",
    "    input_parameters=[\"my_parameter\"],\n",
    "    pipeline_name=\"my_pipeline\",\n",
    "    output_dir=\"./\"\n",
    ")"
   ]
  },
  {
   "cell_type": "code",
   "execution_count": null,
   "id": "57904c55",
   "metadata": {},
   "outputs": [],
   "source": []
  }
 ],
 "metadata": {
  "kernelspec": {
   "display_name": "Python 3 (ipykernel)",
   "language": "python",
   "name": "python3"
  },
  "language_info": {
   "codemirror_mode": {
    "name": "ipython",
    "version": 3
   },
   "file_extension": ".py",
   "mimetype": "text/x-python",
   "name": "python",
   "nbconvert_exporter": "python",
   "pygments_lexer": "ipython3",
   "version": "3.8.13"
  }
 },
 "nbformat": 4,
 "nbformat_minor": 5
}
